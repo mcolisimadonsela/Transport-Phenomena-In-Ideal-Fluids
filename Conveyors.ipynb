{
 "cells": [
  {
   "cell_type": "code",
   "execution_count": 1,
   "metadata": {},
   "outputs": [],
   "source": [
    "import numpy as np\n",
    "import matplotlib.pyplot as plt"
   ]
  },
  {
   "cell_type": "code",
   "execution_count": null,
   "metadata": {},
   "outputs": [],
   "source": []
  },
  {
   "cell_type": "markdown",
   "metadata": {},
   "source": [
    "### Simulating the conveyor (sequentially triggered source pairs)"
   ]
  },
  {
   "cell_type": "code",
   "execution_count": 8,
   "metadata": {},
   "outputs": [],
   "source": [
    "# We define lists and initialize lists \n",
    "dt=0.0001                 # time-step\n",
    "u=6                       \n",
    "x0=0\n",
    "y0=0\n",
    "x11=0.5\n",
    "y11=0\n",
    "a1=3.5\n",
    "a2=5.5\n",
    "N=3000000                # number of iterations to be made\n",
    "m=1000000                # parameter determining delay time\n",
    "y=np.zeros(N)\n",
    "x=np.zeros(N)\n",
    "x[0]=0.25\n",
    "y[0]=1\n",
    "y1=np.zeros(N)         # lists for storing data for the activations\n",
    "x1=np.zeros(N)\n",
    "y2=np.zeros(N)\n",
    "x2=np.zeros(N)\n",
    "x3=np.zeros(N)\n",
    "y3=np.zeros(N)\n",
    "t=np.zeros(N)\n",
    "t1=np.zeros(N)\n",
    "t2=np.zeros(N) \n",
    "t[0]=dt                # list to store time data points\n",
    "t1[m]=dt\n",
    "t2[2*m]=dt\n",
    "ls = np.sqrt((x0 - x11)**2 + (y0 - y11)**2)        #legnth scale\n",
    "u = u/ls"
   ]
  },
  {
   "cell_type": "code",
   "execution_count": 9,
   "metadata": {},
   "outputs": [],
   "source": [
    "# generating time points \n",
    "for i in range(1,N):\n",
    "    t[i] = i*dt\n",
    "    if i > m:\n",
    "        t1[i]= (i-m)*dt\n",
    "    if i > 2*m:\n",
    "        t2[i] = (i-2*m)*dt"
   ]
  },
  {
   "cell_type": "code",
   "execution_count": 10,
   "metadata": {},
   "outputs": [],
   "source": [
    "#generating the numerical solution\n",
    "for i in range(1,N):\n",
    "    u = 12\n",
    "    t[i]=i*dt\n",
    "    x[i]=x[i-1]+(dt*u/(4*t[i-1])**2)*((x[i-1]-x0)*np.exp((-(x[i-1]-x0)**2 -(y[i-1]-y0)**2)/(4*t[i-1])) + \\\n",
    "                                   (x[i-1]-x11)*np.exp((-(x[i-1]-x11)**2 -(y[i-1]-y11)**2)/(4*t[i-1])))\n",
    "\n",
    "    y[i]=y[i-1]+(dt*u/(4*t[i-1])**2)*((y[i-1]-y0)*np.exp((-(x[i-1]-x0)**2 -(y[i-1]-y0)**2)/(4*t[i-1])) + \\\n",
    "                                   (y[i-1]-y11)*np.exp((-(x[i-1]-x11)**2 -(y[i-1]-y11)**2)/(4*t[i-1])))\n",
    "    if i > m:             # for second activation\n",
    "        u = 12\n",
    "        x1[m] = x[m-1]\n",
    "        y1[m] = y[m-1]\n",
    "        x1[i]=x1[i-1]+(dt*u/(4*t1[i-1])**2)*((x1[i-1]-x0)*np.exp((-(x1[i-1]-x0)**2 -(y1[i-1]-a1)**2)/(4*t1[i-1])) + \\\n",
    "                                   (x1[i-1]-x11)*np.exp((-(x1[i-1]-x11)**2 -(y1[i-1]-a1)**2)/(4*t1[i-1])))\n",
    "    \n",
    "        y1[i]=y1[i-1]+(dt*u/(4*t1[i-1])**2)*((y1[i-1]-a1)*np.exp((-(x1[i-1]-x0)**2 -(y1[i-1]-a1)**2)/(4*t1[i-1])) + \\\n",
    "                                   (y1[i-1]-a1)*np.exp((-(x1[i-1]-x11)**2 -(y1[i-1]-a1)**2)/(4*t1[i-1])))\n",
    "    \n",
    "    if i > 2*m:                 # for third activation\n",
    "        u = 12 \n",
    "        x2[2*m] = x1[2*m -1]\n",
    "        y2[2*m] = y1[2*m -1]\n",
    "        x2[i]=x2[i-1]+(dt*u/(4*t2[i-1])**2)*((x2[i-1]-x0)*np.exp((-(x2[i-1]-x0)**2 -(y2[i-1]-a2)**2)/(4*t2[i-1])) + \\\n",
    "                                   (x2[i-1]-x11)*np.exp((-(x2[i-1]-x11)**2 -(y2[i-1]-a2)**2)/(4*t2[i-1])))\n",
    "    \n",
    "        y2[i]=y2[i-1]+(dt*u/(4*t2[i-1])**2)*((y2[i-1]-a2)*np.exp((-(x2[i-1]-x0)**2 -(y2[i-1]-a2)**2)/(4*t2[i-1])) + \\\n",
    "                                   (y2[i-1]-a2)*np.exp((-(x2[i-1]-x11)**2 -(y2[i-1]-a2)**2)/(4*t2[i-1])))\n"
   ]
  },
  {
   "cell_type": "code",
   "execution_count": 11,
   "metadata": {},
   "outputs": [],
   "source": [
    "#merging data from the three subsequent activations\n",
    "for i in range(N):\n",
    "    if i<m:\n",
    "        y3[i]=y[i] \n",
    "    elif m<=i<2*m:\n",
    "        y3[i]=y1[i]\n",
    "    else:\n",
    "        y3[i]=y2[i]"
   ]
  },
  {
   "cell_type": "code",
   "execution_count": 12,
   "metadata": {},
   "outputs": [
    {
     "data": {
      "text/plain": [
       "Text(0, 0.5, 'y')"
      ]
     },
     "execution_count": 12,
     "metadata": {},
     "output_type": "execute_result"
    },
    {
     "data": {
      "image/png": "[encoded data removed]",
      "text/plain": [
       "<Figure size 432x288 with 1 Axes>"
      ]
     },
     "metadata": {
      "needs_background": "light"
     },
     "output_type": "display_data"
    }
   ],
   "source": [
    "#plotting trajectory\n",
    "plt.plot(x,y3)\n",
    "plt.title('Trajectory of Inclusion')\n",
    "plt.xlabel('x')\n",
    "plt.ylabel('y')\n",
    "#plt.savefig('M5.pdf')"
   ]
  },
  {
   "cell_type": "code",
   "execution_count": null,
   "metadata": {},
   "outputs": [],
   "source": []
  },
  {
   "cell_type": "code",
   "execution_count": 13,
   "metadata": {},
   "outputs": [
    {
     "data": {
      "text/plain": [
       "Text(0, 0.5, 'y')"
      ]
     },
     "execution_count": 13,
     "metadata": {},
     "output_type": "execute_result"
    },
    {
     "data": {
      "image/png": "[encoded data removed]",
      "text/plain": [
       "<Figure size 432x288 with 1 Axes>"
      ]
     },
     "metadata": {
      "needs_background": "light"
     },
     "output_type": "display_data"
    }
   ],
   "source": [
    "# plotting displacement\n",
    "plt.plot(t,y3)\n",
    "plt.title('Displacement Along Y Axis')\n",
    "plt.xlabel('t')\n",
    "plt.ylabel('y')\n",
    "#plt.savefig('M6.pdf')"
   ]
  },
  {
   "cell_type": "code",
   "execution_count": null,
   "metadata": {},
   "outputs": [],
   "source": []
  },
  {
   "cell_type": "code",
   "execution_count": null,
   "metadata": {},
   "outputs": [],
   "source": []
  },
  {
   "cell_type": "code",
   "execution_count": null,
   "metadata": {},
   "outputs": [],
   "source": []
  },
  {
   "cell_type": "markdown",
   "metadata": {},
   "source": [
    "### Simulating the conveyor with a bad activation protocol."
   ]
  },
  {
   "cell_type": "code",
   "execution_count": 34,
   "metadata": {},
   "outputs": [],
   "source": [
    "# We define lists and initialize lists \n",
    "dt=0.0001                 # time-step\n",
    "u=6                       \n",
    "x0=0\n",
    "y0=0\n",
    "x11=0.5\n",
    "y11=0\n",
    "a1=3.5\n",
    "a2=7.5\n",
    "N=3000000                # number of iterations to be made\n",
    "m=1000000                # parameter determining delay time\n",
    "y=np.zeros(N)\n",
    "x=np.zeros(N)\n",
    "x[0]=0.25\n",
    "y[0]=1\n",
    "y1=np.zeros(N)         # lists for storing data for the activations\n",
    "x1=np.zeros(N)\n",
    "y2=np.zeros(N)\n",
    "x2=np.zeros(N)\n",
    "x3=np.zeros(N)\n",
    "y3=np.zeros(N)\n",
    "t=np.zeros(N)\n",
    "t1=np.zeros(N)\n",
    "t2=np.zeros(N) \n",
    "t[0]=dt                # list to store time data points\n",
    "t1[m]=dt\n",
    "t2[2*m]=dt\n",
    "ls = np.sqrt((x0 - x11)**2 + (y0 - y11)**2)        #legnth scale\n",
    "u = u/ls"
   ]
  },
  {
   "cell_type": "code",
   "execution_count": 35,
   "metadata": {},
   "outputs": [],
   "source": [
    "# generating time points \n",
    "for i in range(1,N):\n",
    "    t[i] = i*dt\n",
    "    if i > m:\n",
    "        t1[i]= (i-m)*dt\n",
    "    if i > 2*m:\n",
    "        t2[i] = (i-2*m)*dt"
   ]
  },
  {
   "cell_type": "code",
   "execution_count": null,
   "metadata": {},
   "outputs": [],
   "source": []
  },
  {
   "cell_type": "code",
   "execution_count": 37,
   "metadata": {},
   "outputs": [],
   "source": [
    "#generating the numerical solution\n",
    "for i in range(1,N):\n",
    "    u = 12\n",
    "    t[i]=i*dt\n",
    "    x[i]=x[i-1]+(dt*u/(4*t[i-1])**2)*((x[i-1]-x0)*np.exp((-(x[i-1]-x0)**2 -(y[i-1]-y0)**2)/(4*t[i-1])) + \\\n",
    "                                   (x[i-1]-x11)*np.exp((-(x[i-1]-x11)**2 -(y[i-1]-y11)**2)/(4*t[i-1])))\n",
    "\n",
    "    y[i]=y[i-1]+(dt*u/(4*t[i-1])**2)*((y[i-1]-y0)*np.exp((-(x[i-1]-x0)**2 -(y[i-1]-y0)**2)/(4*t[i-1])) + \\\n",
    "                                   (y[i-1]-y11)*np.exp((-(x[i-1]-x11)**2 -(y[i-1]-y11)**2)/(4*t[i-1])))\n",
    "    if i > m:             # for second activation\n",
    "        u = 5\n",
    "        x1[m] = x[m-1]\n",
    "        y1[m] = y[m-1]\n",
    "        x1[i]=x1[i-1]+(dt*u/(4*t1[i-1])**2)*((x1[i-1]-x0)*np.exp((-(x1[i-1]-x0)**2 -(y1[i-1]-a1)**2)/(4*t1[i-1])) + \\\n",
    "                                   (x1[i-1]-x11)*np.exp((-(x1[i-1]-x11)**2 -(y1[i-1]-a1)**2)/(4*t1[i-1])))\n",
    "    \n",
    "        y1[i]=y1[i-1]+(dt*u/(4*t1[i-1])**2)*((y1[i-1]-a1)*np.exp((-(x1[i-1]-x0)**2 -(y1[i-1]-a1)**2)/(4*t1[i-1])) + \\\n",
    "                                   (y1[i-1]-a1)*np.exp((-(x1[i-1]-x11)**2 -(y1[i-1]-a1)**2)/(4*t1[i-1])))\n",
    "    \n",
    "    if i > 2*m:                 # for third activation\n",
    "        u = 5 \n",
    "        x2[2*m] = x1[2*m -1]\n",
    "        y2[2*m] = y1[2*m -1]\n",
    "        x2[i]=x2[i-1]+(dt*u/(4*t2[i-1])**2)*((x2[i-1]-x0)*np.exp((-(x2[i-1]-x0)**2 -(y2[i-1]-a2)**2)/(4*t2[i-1])) + \\\n",
    "                                   (x2[i-1]-x11)*np.exp((-(x2[i-1]-x11)**2 -(y2[i-1]-a2)**2)/(4*t2[i-1])))\n",
    "    \n",
    "        y2[i]=y2[i-1]+(dt*u/(4*t2[i-1])**2)*((y2[i-1]-a2)*np.exp((-(x2[i-1]-x0)**2 -(y2[i-1]-a2)**2)/(4*t2[i-1])) + \\\n",
    "                                   (y2[i-1]-a2)*np.exp((-(x2[i-1]-x11)**2 -(y2[i-1]-a2)**2)/(4*t2[i-1])))\n"
   ]
  },
  {
   "cell_type": "code",
   "execution_count": null,
   "metadata": {},
   "outputs": [],
   "source": []
  },
  {
   "cell_type": "code",
   "execution_count": 38,
   "metadata": {},
   "outputs": [],
   "source": [
    "#merging data from the three subsequent activations\n",
    "for i in range(N):\n",
    "    if i<m:\n",
    "        y3[i]=y[i] \n",
    "    elif m<=i<2*m:\n",
    "        y3[i]=y1[i]\n",
    "    else:\n",
    "        y3[i]=y2[i]"
   ]
  },
  {
   "cell_type": "code",
   "execution_count": null,
   "metadata": {},
   "outputs": [],
   "source": []
  },
  {
   "cell_type": "code",
   "execution_count": 42,
   "metadata": {},
   "outputs": [
    {
     "data": {
      "image/png": "[encoded data removed]",
      "text/plain": [
       "<Figure size 432x288 with 1 Axes>"
      ]
     },
     "metadata": {
      "needs_background": "light"
     },
     "output_type": "display_data"
    }
   ],
   "source": [
    "#plotting trajectory\n",
    "plt.plot(x,y3)\n",
    "plt.title('Trajectory of Inclusion')\n",
    "plt.xlabel('x')\n",
    "plt.ylabel('y')\n",
    "#plt.savefig('M5.pdf')"
   ]
  },
  {
   "cell_type": "code",
   "execution_count": 41,
   "metadata": {},
   "outputs": [
    {
     "data": {
      "image/png": "[encoded data removed]",
      "text/plain": [
       "<Figure size 432x288 with 1 Axes>"
      ]
     },
     "metadata": {
      "needs_background": "light"
     },
     "output_type": "display_data"
    }
   ],
   "source": [
    "# plotting displacement\n",
    "plt.plot(t,y3)\n",
    "plt.title('Displacement Along Y Axis')\n",
    "plt.xlabel('t')\n",
    "plt.ylabel('y')\n",
    "#plt.savefig('M6.pdf')"
   ]
  },
  {
   "cell_type": "code",
   "execution_count": null,
   "metadata": {},
   "outputs": [],
   "source": []
  },
  {
   "cell_type": "code",
   "execution_count": null,
   "metadata": {},
   "outputs": [],
   "source": []
  },
  {
   "cell_type": "code",
   "execution_count": null,
   "metadata": {},
   "outputs": [],
   "source": []
  }
 ],
 "metadata": {
  "kernelspec": {
   "display_name": "Python 3",
   "language": "python",
   "name": "python3"
  },
  "language_info": {
   "codemirror_mode": {
    "name": "ipython",
    "version": 3
   },
   "file_extension": ".py",
   "mimetype": "text/x-python",
   "name": "python",
   "nbconvert_exporter": "python",
   "pygments_lexer": "ipython3",
   "version": "3.7.1"
  }
 },
 "nbformat": 4,
 "nbformat_minor": 2
}

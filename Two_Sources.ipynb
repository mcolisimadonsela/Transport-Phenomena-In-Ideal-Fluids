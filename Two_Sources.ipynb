{
 "cells": [
  {
   "cell_type": "markdown",
   "metadata": {},
   "source": [
    "### Generating trajectory and displacement due to two sources"
   ]
  },
  {
   "cell_type": "code",
   "execution_count": 6,
   "metadata": {},
   "outputs": [],
   "source": [
    "#importing required libraries\n",
    "import numpy as np\n",
    "import time\n",
    "import matplotlib\n",
    "import matplotlib.pyplot as plt"
   ]
  },
  {
   "cell_type": "code",
   "execution_count": 2,
   "metadata": {},
   "outputs": [],
   "source": [
    "#assigning values to required problem parameters\n",
    "dt=0.0001             # time_step\n",
    "u=6                   # mobility\n",
    "x0=0                  # initial source 1 position \n",
    "y0=0\n",
    "x1=0.5                #initial source 2 position\n",
    "y1=0\n",
    "N=2000000             #number of iterations \n",
    "y=np.zeros(N)         # data lists for trajectories\n",
    "x=np.zeros(N)\n",
    "x[0]=0.25             # initial inclusion distance\n",
    "y[0]=5\n",
    "t=np.zeros(N)\n",
    "t[0]=dt\n",
    "ls = np.sqrt((x0 - x1)**2 + (y0 - y1)**2)          # length scale\n",
    "u = u/ls"
   ]
  },
  {
   "cell_type": "code",
   "execution_count": null,
   "metadata": {},
   "outputs": [],
   "source": []
  },
  {
   "cell_type": "code",
   "execution_count": null,
   "metadata": {},
   "outputs": [],
   "source": []
  },
  {
   "cell_type": "code",
   "execution_count": 13,
   "metadata": {},
   "outputs": [],
   "source": [
    "#solving equation of motion\n",
    "for i in range(1,N):\n",
    "    t[i]=i*dt\n",
    "    x[i]=x[i-1]+(dt*u/(4*t[i-1])**2)*((x[i-1]-x0)*np.exp((-(x[i-1]-x0)**2 -(y[i-1]-y0)**2)/(4*t[i-1])) + \\\n",
    "                                   (x[i-1]-x1)*np.exp((-(x[i-1]-x1)**2 -(y[i-1]-y1)**2)/(4*t[i-1])))\n",
    "    \n",
    "    y[i]=y[i-1]+(dt*u/(4*t[i-1])**2)*((y[i-1]-y0)*np.exp((-(x[i-1]-x0)**2 -(y[i-1]-y0)**2)/(4*t[i-1])) + \\\n",
    "                                   (y[i-1]-y1)*np.exp((-(x[i-1]-x1)**2 -(y[i-1]-y1)**2)/(4*t[i-1])))\n",
    "    \n",
    "#The backslash is for breaking the code to next line, such that the two lines are still executed as one line of code.    "
   ]
  },
  {
   "cell_type": "code",
   "execution_count": 14,
   "metadata": {},
   "outputs": [
    {
     "data": {
      "text/plain": [
       "Text(0, 0.5, 'y')"
      ]
     },
     "execution_count": 14,
     "metadata": {},
     "output_type": "execute_result"
    },
    {
     "data": {
      "image/png": "[encoded data removed]",
      "text/plain": [
       "<Figure size 432x288 with 1 Axes>"
      ]
     },
     "metadata": {
      "needs_background": "light"
     },
     "output_type": "display_data"
    }
   ],
   "source": [
    "#plotting solution for trajectory\n",
    "plt.plot(x,y)\n",
    "plt.title('Trajectory Of Inclusion')\n",
    "plt.xlabel('x')\n",
    "plt.ylabel('y')\n",
    "#plt.savefig('T_23.pdf')"
   ]
  },
  {
   "cell_type": "code",
   "execution_count": 15,
   "metadata": {},
   "outputs": [
    {
     "data": {
      "text/plain": [
       "Text(0.5, 1.0, 'Displacement Along x-axis')"
      ]
     },
     "execution_count": 15,
     "metadata": {},
     "output_type": "execute_result"
    },
    {
     "data": {
      "image/png": "[encoded data removed]",
      "text/plain": [
       "<Figure size 432x288 with 1 Axes>"
      ]
     },
     "metadata": {
      "needs_background": "light"
     },
     "output_type": "display_data"
    }
   ],
   "source": [
    "#plotting solution for x trajectory\n",
    "plt.plot(t,x)\n",
    "plt.xlabel('t')\n",
    "plt.ylabel('x')\n",
    "plt.title('Displacement Along x-axis')\n",
    "#plt.savefig('x40.pdf')"
   ]
  },
  {
   "cell_type": "code",
   "execution_count": 16,
   "metadata": {},
   "outputs": [
    {
     "data": {
      "text/plain": [
       "Text(0.5, 1.0, 'Displacement Along y-axis')"
      ]
     },
     "execution_count": 16,
     "metadata": {},
     "output_type": "execute_result"
    },
    {
     "data": {
      "image/png": "[encoded data removed]",
      "text/plain": [
       "<Figure size 432x288 with 1 Axes>"
      ]
     },
     "metadata": {
      "needs_background": "light"
     },
     "output_type": "display_data"
    }
   ],
   "source": [
    "plt.plot(t,y)\n",
    "plt.xlabel('t')\n",
    "plt.ylabel('y')\n",
    "plt.title('Displacement Along y-axis')\n",
    "#plt.savefig('Two_13.pdf')"
   ]
  },
  {
   "cell_type": "code",
   "execution_count": null,
   "metadata": {},
   "outputs": [],
   "source": []
  },
  {
   "cell_type": "markdown",
   "metadata": {},
   "source": [
    "#### Checking Effects of distance between sources"
   ]
  },
  {
   "cell_type": "code",
   "execution_count": null,
   "metadata": {},
   "outputs": [],
   "source": []
  },
  {
   "cell_type": "code",
   "execution_count": 3,
   "metadata": {},
   "outputs": [],
   "source": [
    "#problem parameters\n",
    "dt=0.0001\n",
    "u=0.3  \n",
    "x0=0\n",
    "y0=0\n",
    "x11=6\n",
    "y11=0\n",
    "N=2000000\n",
    "y=np.zeros(N)\n",
    "x=np.zeros(N)\n",
    "x[0]=3\n",
    "y[0]=3\n",
    "y1=np.zeros(N)\n",
    "x1=np.zeros(N)\n",
    "x1[0]=2\n",
    "y1[0]=3\n",
    "y2=np.zeros(N)\n",
    "x2=np.zeros(N)\n",
    "x2[0]=1\n",
    "y2[0]=3\n",
    "t=np.zeros(N)\n",
    "t[0]=dt\n",
    "ls = np.sqrt((x0 - x11)**2 + (y0 - y11)**2)\n",
    "u1 = u/ls"
   ]
  },
  {
   "cell_type": "code",
   "execution_count": 4,
   "metadata": {},
   "outputs": [
    {
     "data": {
      "text/plain": [
       "6.0"
      ]
     },
     "execution_count": 4,
     "metadata": {},
     "output_type": "execute_result"
    }
   ],
   "source": [
    "ls"
   ]
  },
  {
   "cell_type": "code",
   "execution_count": 5,
   "metadata": {},
   "outputs": [],
   "source": [
    "#numerical solution of governing equation of motion\n",
    "for i in range(1,N):\n",
    "    t[i]=i*dt\n",
    "    x[i]=x[i-1]+(dt*u1/(4*t[i-1])**2)*((x[i-1]-x0)*np.exp((-(x[i-1]-x0)**2 -(y[i-1]-y0)**2)/(4*t[i-1])) + \\\n",
    "                                   (x[i-1]-x11)*np.exp((-(x[i-1]-x11)**2 -(y[i-1]-y11)**2)/(4*t[i-1])))\n",
    "    \n",
    "    y[i]=y[i-1]+(dt*u1/(4*t[i-1])**2)*((y[i-1]-y0)*np.exp((-(x[i-1]-x0)**2 -(y[i-1]-y0)**2)/(4*t[i-1])) + \\\n",
    "                                   (y[i-1]-y11)*np.exp((-(x[i-1]-x11)**2 -(y[i-1]-y11)**2)/(4*t[i-1])))\n",
    "    \n",
    "x11=4   \n",
    "ls = np.sqrt((x0 - x11)**2 + (y0 - y11)**2)\n",
    "u1 = u/ls\n",
    "for i in range(1,N):\n",
    "#    t[i]=i*dt\n",
    "    x1[i]=x1[i-1]+(dt*u1/(4*t[i-1])**2)*((x1[i-1]-x0)*np.exp((-(x1[i-1]-x0)**2 -(y1[i-1]-y0)**2)/(4*t[i-1])) + \\\n",
    "                                   (x1[i-1]-x11)*np.exp((-(x1[i-1]-x11)**2 -(y1[i-1]-y11)**2)/(4*t[i-1])))\n",
    "    \n",
    "    y1[i]=y1[i-1]+(dt*u1/(4*t[i-1])**2)*((y1[i-1]-y0)*np.exp((-(x1[i-1]-x0)**2 -(y1[i-1]-y0)**2)/(4*t[i-1])) + \\\n",
    "                                   (y1[i-1]-y11)*np.exp((-(x1[i-1]-x11)**2 -(y1[i-1]-y11)**2)/(4*t[i-1])))\n",
    "x11=2  \n",
    "ls = np.sqrt((x0 - x11)**2 + (y0 - y11)**2)\n",
    "u1 = u/ls\n",
    "for i in range(1,N):\n",
    "#    t[i]=i*dt\n",
    "    x2[i]=x2[i-1]+(dt*u1/(4*t[i-1])**2)*((x2[i-1]-x0)*np.exp((-(x2[i-1]-x0)**2 -(y2[i-1]-y0)**2)/(4*t[i-1])) + \\\n",
    "                                   (x2[i-1]-x11)*np.exp((-(x2[i-1]-x11)**2 -(y2[i-1]-y11)**2)/(4*t[i-1])))\n",
    "    \n",
    "    y2[i]=y2[i-1]+(dt*u1/(4*t[i-1])**2)*((y2[i-1]-y0)*np.exp((-(x2[i-1]-x0)**2 -(y2[i-1]-y0)**2)/(4*t[i-1])) + \\\n",
    "                                   (y2[i-1]-y11)*np.exp((-(x2[i-1]-x11)**2 -(y2[i-1]-y11)**2)/(4*t[i-1])))\n"
   ]
  },
  {
   "cell_type": "code",
   "execution_count": null,
   "metadata": {},
   "outputs": [],
   "source": []
  },
  {
   "cell_type": "code",
   "execution_count": 10,
   "metadata": {},
   "outputs": [
    {
     "data": {
      "image/png": "[encoded data removed]",
      "text/plain": [
       "<Figure size 432x288 with 1 Axes>"
      ]
     },
     "metadata": {
      "needs_background": "light"
     },
     "output_type": "display_data"
    }
   ],
   "source": [
    "#plotting results\n",
    "plt.plot(t,y,label=r'$\\lambda=6$')\n",
    "plt.plot(t,y1,label=r'$\\lambda=4$')\n",
    "plt.plot(t,y2,label=r'$\\lambda=2$')\n",
    "#plt.plot(x3,y3,label='From (-2,-1)')\n",
    "plt.legend(loc=\"center\" )\n",
    "plt.xlabel('t')\n",
    "plt.ylabel('y')\n",
    "plt.title('Displacement Of Inclusion')\n",
    "plt.savefig('T41.pdf')"
   ]
  },
  {
   "cell_type": "code",
   "execution_count": null,
   "metadata": {},
   "outputs": [],
   "source": []
  },
  {
   "cell_type": "code",
   "execution_count": null,
   "metadata": {},
   "outputs": [],
   "source": []
  },
  {
   "cell_type": "code",
   "execution_count": null,
   "metadata": {},
   "outputs": [],
   "source": []
  },
  {
   "cell_type": "code",
   "execution_count": null,
   "metadata": {},
   "outputs": [],
   "source": []
  }
 ],
 "metadata": {
  "kernelspec": {
   "display_name": "Python 3",
   "language": "python",
   "name": "python3"
  },
  "language_info": {
   "codemirror_mode": {
    "name": "ipython",
    "version": 3
   },
   "file_extension": ".py",
   "mimetype": "text/x-python",
   "name": "python",
   "nbconvert_exporter": "python",
   "pygments_lexer": "ipython3",
   "version": "3.7.1"
  }
 },
 "nbformat": 4,
 "nbformat_minor": 2
}
